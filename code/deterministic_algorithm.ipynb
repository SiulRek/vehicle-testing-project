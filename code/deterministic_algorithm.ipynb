{
 "cells": [
  {
   "cell_type": "markdown",
   "metadata": {},
   "source": [
    "import numpy as np\n",
    "import random\n",
    "\n",
    "random_bools = [random.choice([True, False]) for _ in range(4)]\n",
    "\n",
    "defining_columns =  4\n",
    "defining_rows = 4\n",
    "defining_matrix = np.ones((defining_rows, defining_columns))\n",
    "\n",
    "quadrant_columns = quarter_size\n",
    "quadrant_rows = quarter_size\n",
    "quadrant_matrix = np.zeros((quadrant_rows, quadrant_columns))\n",
    "\n",
    "for _ in range(2):\n",
    "    quadrant_matrix[0,_]=random_bools[_]\n",
    "\n",
    "for _ in range(2):\n",
    "    quadrant_matrix[_,0]=random_bools[2+_]\n",
    "\n"
   ]
  },
  {
   "cell_type": "code",
   "execution_count": 21,
   "metadata": {},
   "outputs": [
    {
     "name": "stdout",
     "output_type": "stream",
     "text": [
      "[[0 0 0 0 0 0 1 0]\n",
      " [0 0 0 0 1 0 1 0]\n",
      " [0 0 0 0 0 0 0 0]\n",
      " [0 0 0 0 0 0 0 0]\n",
      " [1 0 0 0 0 0 0 0]\n",
      " [0 0 0 0 0 0 0 0]\n",
      " [0 0 0 0 1 0 0 0]\n",
      " [0 0 0 0 0 0 0 0]]\n",
      "[[0. 0. 1. 1.]\n",
      " [0. 0. 0. 0.]\n",
      " [1. 0. 0. 0.]\n",
      " [0. 0. 1. 0.]]\n"
     ]
    }
   ],
   "source": [
    "import numpy as np\n",
    "input_size = 8\n",
    "# check if input size is even\n",
    "if input_size % 2 != 0:\n",
    "    raise ValueError(\"input size is not even\")\n",
    "\n",
    "input_matrix = np.random.randint(8, size=(input_size, input_size))\n",
    "# please check if input_matrix is greather than 1 than set to 0\n",
    "for delta_x in range(input_size):\n",
    "    for delta_y in range(input_size):\n",
    "        if input_matrix[delta_x,delta_y] > 1:\n",
    "            input_matrix[delta_x,delta_y] = 0\n",
    "\n",
    "output_size = input_size//2\n",
    "output_matrix = np.zeros((output_size, output_size))\n",
    "\n",
    "for quarter_x in range(output_size):\n",
    "    for quarter_y in range(output_size):\n",
    "        quandrant_matrix = []\n",
    "        for delta_x in range(2):\n",
    "            for delta_y in range(2):\n",
    "                quandrant_matrix.append(input_matrix[quarter_x*2+delta_x,quarter_y*2+delta_y])\n",
    "        # find out if any value in matrix is one\n",
    "        if any(quandrant_matrix):\n",
    "            output_matrix[quarter_x,quarter_y] = 1\n",
    "        else:\n",
    "            output_matrix[quarter_x,quarter_y] = 0\n",
    "            \n",
    "print(input_matrix)\n",
    "print(output_matrix)\n",
    "\n"
   ]
  },
  {
   "cell_type": "code",
   "execution_count": 31,
   "metadata": {},
   "outputs": [
    {
     "name": "stdout",
     "output_type": "stream",
     "text": [
      " Input Matrix:\n",
      " [[0 0 1 0 1 0 0 0 0]\n",
      " [0 0 1 0 0 0 0 0 0]\n",
      " [0 0 1 0 1 0 0 1 0]\n",
      " [0 0 0 1 1 0 0 0 0]\n",
      " [0 0 0 0 0 0 0 1 0]\n",
      " [0 0 0 0 0 0 0 0 0]\n",
      " [0 0 0 0 0 0 0 0 0]\n",
      " [0 1 0 0 0 0 0 0 0]\n",
      " [0 0 0 0 0 0 0 0 0]]\n",
      "\n",
      "Output Matrix:\n",
      " [[1. 1. 1.]\n",
      " [0. 1. 1.]\n",
      " [1. 0. 0.]]\n",
      "\n"
     ]
    },
    {
     "data": {
      "image/png": "[encoded data removed]",
      "text/plain": [
       "<Figure size 640x480 with 2 Axes>"
      ]
     },
     "metadata": {},
     "output_type": "display_data"
    }
   ],
   "source": [
    "import numpy as np\n",
    "import matplotlib.pyplot as plt\n",
    "input_size = 9\n",
    "block_size = 3\n",
    "# check if input size is even\n",
    "if input_size % block_size != 0:\n",
    "    raise ValueError(f\"Input size is not dividable by quarter size {block_size}.\")\n",
    "\n",
    "input_matrix = np.random.randint(8, size=(input_size, input_size))\n",
    "# please check if input_matrix is greather than 1 than set to 0\n",
    "for delta_x in range(input_size):\n",
    "    for delta_y in range(input_size):\n",
    "        if input_matrix[delta_x,delta_y] > 1:\n",
    "            input_matrix[delta_x,delta_y] = 0\n",
    "\n",
    "output_size = input_size//block_size\n",
    "output_matrix = np.zeros((output_size, output_size))\n",
    "\n",
    "for quarter_x in range(output_size):\n",
    "    for quarter_y in range(output_size):\n",
    "        quandrant_matrix = []\n",
    "        for delta_x in range(block_size):\n",
    "            for delta_y in range(block_size):\n",
    "                quandrant_matrix.append(input_matrix[quarter_x*block_size+delta_x,quarter_y*block_size+delta_y])\n",
    "        # find out if any value in matrix is one\n",
    "        if any(quandrant_matrix):\n",
    "            output_matrix[quarter_x,quarter_y] = 1\n",
    "        else:\n",
    "            output_matrix[quarter_x,quarter_y] = 0\n",
    "            \n",
    "print(f\" Input Matrix:\\n {input_matrix}\\n\")\n",
    "print(f\"Output Matrix:\\n {output_matrix}\\n\")\n",
    "\n",
    "# Display the matrices as images\n",
    "plt.subplot(1, 2, 1)\n",
    "plt.imshow(input_matrix, cmap='gray')\n",
    "plt.title('Input Matrix')\n",
    "\n",
    "plt.subplot(1, 2, 2)\n",
    "plt.imshow(output_matrix, cmap='gray')\n",
    "plt.title('Output Matrix')\n",
    "\n",
    "plt.show()"
   ]
  },
  {
   "cell_type": "code",
   "execution_count": 36,
   "metadata": {},
   "outputs": [],
   "source": [
    "class SimpleNeuralNetwork:\n",
    "    def __init__(self, input_size, learning_rate=0.1):\n",
    "        self.weights = np.random.randn(input_size, 1)\n",
    "        self.bias = np.random.randn()\n",
    "        self.learning_rate = learning_rate\n",
    "\n",
    "    def sigmoid(self, x):\n",
    "        return 1 / (1 + np.exp(-x))\n",
    "\n",
    "    def sigmoid_derivative(self, x):\n",
    "        return x * (1 - x)\n",
    "\n",
    "    def forward(self, inputs):\n",
    "        return self.sigmoid(np.dot(inputs, self.weights) + self.bias)\n",
    "\n",
    "    def backward(self, inputs, actual_output, predicted_output):\n",
    "        error = actual_output - predicted_output\n",
    "        d_predicted_output = error * self.sigmoid_derivative(predicted_output)\n",
    "        # Optimize weight update for batch processing\n",
    "        self.weights += np.dot(inputs.T, d_predicted_output) * self.learning_rate\n",
    "        self.bias += np.sum(d_predicted_output) * self.learning_rate\n",
    "\n",
    "    def train(self, inputs, outputs, iterations):\n",
    "        for _ in range(iterations):\n",
    "            predicted_output = self.forward(inputs)\n",
    "            self.backward(inputs, outputs, predicted_output)\n",
    "\n"
   ]
  },
  {
   "cell_type": "code",
   "execution_count": 51,
   "metadata": {},
   "outputs": [
    {
     "name": "stdout",
     "output_type": "stream",
     "text": [
      "Average Weight for 10 iterations: 40.093001977599094\n",
      "Average Weight for 20 iterations: 50.53727214709074\n",
      "Average Weight for 30 iterations: 61.53051531177556\n",
      "Average Weight for 40 iterations: 52.37544507358875\n",
      "Average Weight for 50 iterations: 41.97306172119323\n",
      "Average Weight for 70 iterations: 60.172875758480515\n",
      "Average Weight for 100 iterations: 40.80722550431505\n",
      "Average Weight for 150 iterations: 45.166370747632484\n",
      "Average Weight for 250 iterations: 32.3035043039562\n",
      "Average Weight for 500 iterations: 39.32532401880758\n"
     ]
    }
   ],
   "source": [
    "# Example usage\n",
    "# Generate training data\n",
    "input_data = np.random.randint(0, 2, (10000, 4))\n",
    "output_data = (np.sum(input_data, axis=1, keepdims=True) > 0).astype(int)\n",
    "\n",
    "# Initialize the neural network\n",
    "\n",
    "# Vary the iterations\n",
    "iterations_list = [10,20,30,40,50,70,100,150,250,500]\n",
    "\n",
    "# Train and test the neural network for each iteration\n",
    "for iterations in iterations_list:\n",
    "    # Train the neural network\n",
    "    nn = SimpleNeuralNetwork(input_size=4)\n",
    "    nn.train(input_data, output_data, iterations=iterations)\n",
    "\n",
    "    # Print the weights of the neural network\n",
    "    # Calculate the average of the weights and print itl\n",
    "    print(f\"Average Weight for {iterations} iterations: {np.mean(nn.weights)}\")\n",
    "\n"
   ]
  }
 ],
 "metadata": {
  "kernelspec": {
   "display_name": "venv",
   "language": "python",
   "name": "python3"
  },
  "language_info": {
   "codemirror_mode": {
    "name": "ipython",
    "version": 3
   },
   "file_extension": ".py",
   "mimetype": "text/x-python",
   "name": "python",
   "nbconvert_exporter": "python",
   "pygments_lexer": "ipython3",
   "version": "3.11.5"
  }
 },
 "nbformat": 4,
 "nbformat_minor": 2
}
